{
 "cells": [
  {
   "cell_type": "code",
   "execution_count": null,
   "metadata": {},
   "outputs": [],
   "source": []
  },
  {
   "cell_type": "code",
   "execution_count": 11,
   "metadata": {},
   "outputs": [],
   "source": [
    "# Import Python packages\n",
    "import openai\n",
    "import os\n",
    "import pandas as pd\n",
    "import PyPDF2\n",
    "import requests\n",
    "import urllib"
   ]
  },
  {
   "cell_type": "markdown",
   "metadata": {},
   "source": [
    "# Run the Actual Code"
   ]
  },
  {
   "cell_type": "code",
   "execution_count": 15,
   "metadata": {},
   "outputs": [],
   "source": [
    "my_docs = pd.read_csv(\"../data/pdf_all_August2024.csv\")\n",
    "openai.api_key = \"YOUR API KEY HERE\""
   ]
  },
  {
   "cell_type": "code",
   "execution_count": 16,
   "metadata": {},
   "outputs": [
    {
     "name": "stderr",
     "output_type": "stream",
     "text": [
      "UserWarning: Page.extractText is deprecated and will be removed in PyPDF2 2.0.0. Use Page.extract_text instead. [_page.py:1003]\n"
     ]
    },
    {
     "ename": "FileNotFoundError",
     "evalue": "[Errno 2] No such file or directory: '../data/samplePDFs/764.pdf'",
     "output_type": "error",
     "traceback": [
      "\u001b[1;31m---------------------------------------------------------------------------\u001b[0m",
      "\u001b[1;31mFileNotFoundError\u001b[0m                         Traceback (most recent call last)",
      "Cell \u001b[1;32mIn[16], line 16\u001b[0m\n\u001b[0;32m     14\u001b[0m     \u001b[38;5;28;01mcontinue\u001b[39;00m\n\u001b[0;32m     15\u001b[0m \u001b[38;5;28;01melse\u001b[39;00m:\n\u001b[1;32m---> 16\u001b[0m     pdf_file_obj \u001b[38;5;241m=\u001b[39m \u001b[38;5;28;43mopen\u001b[39;49m\u001b[43m(\u001b[49m\u001b[38;5;124;43m\"\u001b[39;49m\u001b[38;5;124;43m../data/samplePDFs/\u001b[39;49m\u001b[38;5;124;43m\"\u001b[39;49m\u001b[43m \u001b[49m\u001b[38;5;241;43m+\u001b[39;49m\u001b[43m \u001b[49m\u001b[38;5;28;43mstr\u001b[39;49m\u001b[43m(\u001b[49m\u001b[43mindex\u001b[49m\u001b[43m)\u001b[49m\u001b[43m \u001b[49m\u001b[38;5;241;43m+\u001b[39;49m\u001b[43m \u001b[49m\u001b[38;5;124;43m\"\u001b[39;49m\u001b[38;5;124;43m.pdf\u001b[39;49m\u001b[38;5;124;43m\"\u001b[39;49m\u001b[43m,\u001b[49m\u001b[43m \u001b[49m\u001b[38;5;124;43m\"\u001b[39;49m\u001b[38;5;124;43mrb\u001b[39;49m\u001b[38;5;124;43m\"\u001b[39;49m\u001b[43m)\u001b[49m\n\u001b[0;32m     17\u001b[0m     pdf_reader \u001b[38;5;241m=\u001b[39m PyPDF2\u001b[38;5;241m.\u001b[39mPdfReader(pdf_file_obj)\n\u001b[0;32m     19\u001b[0m     num_pages \u001b[38;5;241m=\u001b[39m pdf_reader\u001b[38;5;241m.\u001b[39mnumPages\n",
      "File \u001b[1;32m~\\AppData\\Roaming\\Python\\Python311\\site-packages\\IPython\\core\\interactiveshell.py:310\u001b[0m, in \u001b[0;36m_modified_open\u001b[1;34m(file, *args, **kwargs)\u001b[0m\n\u001b[0;32m    303\u001b[0m \u001b[38;5;28;01mif\u001b[39;00m file \u001b[38;5;129;01min\u001b[39;00m {\u001b[38;5;241m0\u001b[39m, \u001b[38;5;241m1\u001b[39m, \u001b[38;5;241m2\u001b[39m}:\n\u001b[0;32m    304\u001b[0m     \u001b[38;5;28;01mraise\u001b[39;00m \u001b[38;5;167;01mValueError\u001b[39;00m(\n\u001b[0;32m    305\u001b[0m         \u001b[38;5;124mf\u001b[39m\u001b[38;5;124m\"\u001b[39m\u001b[38;5;124mIPython won\u001b[39m\u001b[38;5;124m'\u001b[39m\u001b[38;5;124mt let you open fd=\u001b[39m\u001b[38;5;132;01m{\u001b[39;00mfile\u001b[38;5;132;01m}\u001b[39;00m\u001b[38;5;124m by default \u001b[39m\u001b[38;5;124m\"\u001b[39m\n\u001b[0;32m    306\u001b[0m         \u001b[38;5;124m\"\u001b[39m\u001b[38;5;124mas it is likely to crash IPython. If you know what you are doing, \u001b[39m\u001b[38;5;124m\"\u001b[39m\n\u001b[0;32m    307\u001b[0m         \u001b[38;5;124m\"\u001b[39m\u001b[38;5;124myou can use builtins\u001b[39m\u001b[38;5;124m'\u001b[39m\u001b[38;5;124m open.\u001b[39m\u001b[38;5;124m\"\u001b[39m\n\u001b[0;32m    308\u001b[0m     )\n\u001b[1;32m--> 310\u001b[0m \u001b[38;5;28;01mreturn\u001b[39;00m \u001b[43mio_open\u001b[49m\u001b[43m(\u001b[49m\u001b[43mfile\u001b[49m\u001b[43m,\u001b[49m\u001b[43m \u001b[49m\u001b[38;5;241;43m*\u001b[39;49m\u001b[43margs\u001b[49m\u001b[43m,\u001b[49m\u001b[43m \u001b[49m\u001b[38;5;241;43m*\u001b[39;49m\u001b[38;5;241;43m*\u001b[39;49m\u001b[43mkwargs\u001b[49m\u001b[43m)\u001b[49m\n",
      "\u001b[1;31mFileNotFoundError\u001b[0m: [Errno 2] No such file or directory: '../data/samplePDFs/764.pdf'"
     ]
    }
   ],
   "source": [
    "\n",
    "\n",
    "# Generate a running list of ChatGPT response outputs\n",
    "my_responses = []\n",
    "\n",
    "# For each document...\n",
    "for index, row in my_docs.iloc[758:].iterrows():\n",
    "    if index == 65:\n",
    "        my_responses.append(\"Document error...\")\n",
    "        continue\n",
    "    elif index == 86:\n",
    "        my_responses.append(\"Document error...\")\n",
    "        continue\n",
    "    elif index == 759:\n",
    "        my_responses.append(\"Document error...\")\n",
    "        continue\n",
    "    else:\n",
    "        try:\n",
    "            pdf_file_obj = open(\"../data/samplePDFs/\" + str(index) + \".pdf\", \"rb\")\n",
    "            pdf_reader = PyPDF2.PdfReader(pdf_file_obj)\n",
    "\n",
    "            num_pages = pdf_reader.numPages\n",
    "            detected_text = \"\"\n",
    "        \n",
    "        except:\n",
    "            continue\n",
    "\n",
    "    # If this is a smaller document...\n",
    "    if num_pages <= 10:\n",
    "        # For each page in the document...\n",
    "        for page_num in range(num_pages):\n",
    "            page_obj = pdf_reader.getPage(page_num)\n",
    "            detected_text += page_obj.extractText() + \"\\n\\n\"\n",
    "        \n",
    "        # Run the ChatGPT query...\n",
    "        query = \"Given the text below, in places where threats are explicitly mentioned, what are the identified threats for \" + row[\"scientificName\"] + \"?\"\n",
    "        user_msg = query + \"\\n\\n\" + detected_text\n",
    "\n",
    "        response = openai.chat.completions.create(\n",
    "            model = \"gpt-4-turbo-preview\",\n",
    "            messages = [\n",
    "                {\"role\": \"user\", \"content\": user_msg}\n",
    "         ]\n",
    "        )\n",
    "\n",
    "        my_responses.append(response.choices[0].message.content)\n",
    "    else:\n",
    "         # Grab the first 10 pages\n",
    "        for page_num in range(10):\n",
    "            page_obj = pdf_reader.getPage(page_num)\n",
    "            detected_text += page_obj.extractText() + \"\\n\\n\"\n",
    "\n",
    "        # Run the ChatGPT query...\n",
    "        query = \"Given the text below, what are the identified threats for \" + row[\"scientificName\"] + \"?\"\n",
    "        user_msg = query + \"\\n\\n\" + detected_text\n",
    "\n",
    "        try:\n",
    "            response = openai.chat.completions.create(\n",
    "                model = \"gpt-4-turbo-preview\",\n",
    "                messages = [\n",
    "                    {\"role\": \"user\", \"content\": user_msg}\n",
    "            ]\n",
    "            )\n",
    "            my_responses.append(response.choices[0].message.content)\n",
    "\n",
    "        except:\n",
    "            my_responses.append(\"Document error...\")\n",
    "        \n",
    "    pdf_file_obj.close()\n",
    "    "
   ]
  },
  {
   "cell_type": "code",
   "execution_count": 20,
   "metadata": {},
   "outputs": [],
   "source": [
    "# Write the responses to a file\n",
    "my_responses_dict = {\"scientificName\": my_docs[\"scientificName\"], \"urls\": my_docs[\"urls\"], \"Response\": my_responses}\n",
    "my_responses_df = pd.DataFrame(my_responses)\n",
    "\n",
    "my_responses_df.to_csv(\"../data/subsample_gpt_responses4.csv\")"
   ]
  }
 ],
 "metadata": {
  "kernelspec": {
   "display_name": "Python 3",
   "language": "python",
   "name": "python3"
  },
  "language_info": {
   "codemirror_mode": {
    "name": "ipython",
    "version": 3
   },
   "file_extension": ".py",
   "mimetype": "text/x-python",
   "name": "python",
   "nbconvert_exporter": "python",
   "pygments_lexer": "ipython3",
   "version": "3.11.6"
  }
 },
 "nbformat": 4,
 "nbformat_minor": 2
}
