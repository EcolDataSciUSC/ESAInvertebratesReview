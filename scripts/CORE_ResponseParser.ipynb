{
 "cells": [
  {
   "cell_type": "code",
   "execution_count": 1,
   "metadata": {},
   "outputs": [],
   "source": [
    "# Import Python packages\n",
    "import openai\n",
    "import os\n",
    "import numpy as np\n",
    "import pandas as pd"
   ]
  },
  {
   "cell_type": "code",
   "execution_count": 5,
   "metadata": {},
   "outputs": [],
   "source": [
    "# Read the .csv file containing the original ChatGPT responses\n",
    "my_resps = pd.read_csv(\"../data/subsample_gpt_responses_parseReady.csv\")\n",
    "\n",
    "# Set the API key\n",
    "openai.api_key = \"YOUR API KEY HERE\""
   ]
  },
  {
   "cell_type": "code",
   "execution_count": 6,
   "metadata": {},
   "outputs": [
    {
     "data": {
      "text/plain": [
       "True"
      ]
     },
     "execution_count": 6,
     "metadata": {},
     "output_type": "execute_result"
    }
   ],
   "source": [
    "pd.isna(my_resps.at[21\"\"\"\"\"\"\"\"\"\"\"\"\"\"\"\"\"\"\"\"\"\"\"\"\"\"\"\", \"\"\"\"\"\"\"\"\"\"\"\"\"\"\"\"\"\"\"\"\"\"\"\"\"\"\"\"\"Threats Listed?\"])"
   ]
  },
  {
   "cell_type": "code",
   "execution_count": 7,
   "metadata": {},
   "outputs": [],
   "source": [
    "# Send new prompts to ChatGPT to atomize the responses using the IUCN threat categories\n",
    "atomized_resp = list()\n",
    "\n",
    "for index, row in my_resps.iterrows():\n",
    "\n",
    "    original_resp = row[\"Response\"]\n",
    "\n",
    "    if row[\"Threats Listed?\"] == False | pd.isna(my_resps.at[index, \"Threats Listed?\"]):\n",
    "        atomized_resp.append(\"No Threats Listed.\")\n",
    "       \n",
    "    else:\n",
    "         # Run the ChatGPT query...\n",
    "        query = \"Using the IUCN's Unified Threats Classification Scheme, atomize the following response into true/false table for all the below threat categories, 1 Residential & commercial development, 1.1 Housing & urban areas, 1.2 Commercial & industrial areas, 1.3 Tourism & recreation areas, 2 Agriculture & aquaculture,  2.1 Annual & perennial non-timber crops, 2.2 Wood & pulp plantations, 2.3 Livestock farming & ranching, 2.4 Marine & freshwater aquaculture, 3 Energy production & mining, 3.1 Oil & gas drilling, 3.2 Mining & quarrying, 3.3 Renewable energy, 4 Transportation & service corridors, 4.1 Roads & railroads, 4.2 Utility & service lines, 4.3 Shipping lanes, 4.4 Flight paths, 5 Biological resource use, 5.1 Hunting & collecting terrestrial animals, 5.2 Gathering terrestrial plants, 5.3 Logging & wood harvesting, 5.4 Fishing & harvesting aquatic resources, 6 Human intrusions & disturbance, 6.1 Recreational activities, 6.2 War, civil unrest & military exercises, 6.3 Work & other activities, 7 Natural system modifications, 7.1 Fire & fire suppression, 7.2 Dams & water management/use, 7.3 Other ecosystem modifications, 8 Invasive & other problematic species, genes & diseases, 8.1 Invasive non-native/alien species/diseases, 8.2 Problematic native species/diseases, 8.3 Introduced genetic material, 8.4 Problematic species/diseases of unknown origin, 8.5 Viral/prion-induced diseases, 8.6 Diseases of unknown cause, 9. Pollution, 9.1 Domestic & urban waste water, 9.2 Industrial & military effluents, 9.3 Agricultural & forestry effluents, 9.4 Garbage & solid waste, 9.5 Air-borne pollutants, 9.6 Excess energy, 10 Geological events, 10.1 Volcanoes, 10.2 Earthquakes and Tsunamis, 10.3 Avalanches and Landslides, 11 Climate change & severe weather, 11.1 Habitat shifting & alteration, 11.2 Droughts, 11.3 Temperature extremes, 11.4 Storms & flooding, 11.5 Other impacts, 12 Other options, 12.1 Other threat. Do not provide any additional text outside of the table and include all categories, format all tables the same:\"\n",
    "        user_msg = query + \"\\n\\n\" + original_resp\n",
    "\n",
    "        chatGPT_response = openai.chat.completions.create(\n",
    "            model = \"gpt-4-turbo-preview\",\n",
    "            messages = [\n",
    "                {\"role\": \"user\", \"content\": user_msg}\n",
    "         ]\n",
    "        )\n",
    "        atomized_resp.append(chatGPT_response.choices[0].message.content)\n",
    "        "
   ]
  },
  {
   "cell_type": "code",
   "execution_count": 26,
   "metadata": {},
   "outputs": [
    {
     "name": "stdout",
     "output_type": "stream",
     "text": [
      "| Threat Category | Present (True/False) |\n",
      "|-----------------|----------------------|\n",
      "| 1 Residential & commercial development | True |\n",
      "| 1.1 Housing & urban areas | True |\n",
      "| 1.2 Commercial & industrial areas | True |\n",
      "| 1.3 Tourism & recreation areas | False |\n",
      "| 2 Agriculture & aquaculture | False |\n",
      "| 2.1 Annual & perennial non-timber crops | False |\n",
      "| 2.2 Wood & pulp plantations | False |\n",
      "| 2.3 Livestock farming & ranching | False |\n",
      "| 2.4 Marine & freshwater aquaculture | False |\n",
      "| 3 Energy production & mining | False |\n",
      "| 3.1 Oil & gas drilling | False |\n",
      "| 3.2 Mining & quarrying | False |\n",
      "| 3.3 Renewable energy | False |\n",
      "| 4 Transportation & service corridors | True |\n",
      "| 4.1 Roads & railroads | False |\n",
      "| 4.2 Utility & service lines | True |\n",
      "| 4.3 Shipping lanes | False |\n",
      "| 4.4 Flight paths | False |\n",
      "| 5 Biological resource use | False |\n",
      "| 5.1 Hunting & collecting terrestrial animals | False |\n",
      "| 5.2 Gathering terrestrial plants | False |\n",
      "| 5.3 Logging & wood harvesting | False |\n",
      "| 5.4 Fishing & harvesting aquatic resources | False |\n",
      "| 6 Human intrusions & disturbance | False |\n",
      "| 6.1 Recreational activities | False |\n",
      "| 6.2 War, civil unrest & military exercises | False |\n",
      "| 6.3 Work & other activities | False |\n",
      "| 7 Natural system modifications | False |\n",
      "| 7.1 Fire & fire suppression | False |\n",
      "| 7.2 Dams & water management/use | False |\n",
      "| 7.3 Other ecosystem modifications | False |\n",
      "| 8 Invasive & other problematic species, genes & diseases | False |\n",
      "| 8.1 Invasive non-native/alien species/diseases | False |\n",
      "| 8.2 Problematic native species/diseases | False |\n",
      "| 8.3 Introduced genetic material | False |\n",
      "| 8.4 Problematic species/diseases of unknown origin | False |\n",
      "| 8.5 Viral/prion-induced diseases | False |\n",
      "| 8.6 Diseases of unknown cause | False |\n",
      "| 9. Pollution | True |\n",
      "| 9.1 Domestic & urban waste water | True |\n",
      "| 9.2 Industrial & military effluents | False |\n",
      "| 9.3 Agricultural & forestry effluents | False |\n",
      "| 9.4 Garbage & solid waste | False |\n",
      "| 9.5 Air-borne pollutants | False |\n",
      "| 9.6 Excess energy | False |\n",
      "| 10 Geological events | False |\n",
      "| 10.1 Volcanoes | False |\n",
      "| 10.2 Earthquakes and Tsunamis | False |\n",
      "| 10.3 Avalanches and Landslides | False |\n",
      "| 11 Climate change & severe weather | False |\n",
      "| 11.1 Habitat shifting & alteration | False |\n",
      "| 11.2 Droughts | False |\n",
      "| 11.3 Temperature extremes | False |\n",
      "| 11.4 Storms & flooding | False |\n",
      "| 11.5 Other impacts | False |\n",
      "| 12 Other options | False |\n",
      "| 12.1 Other threat | False |\n"
     ]
    }
   ],
   "source": [
    "# Save the atomized responses to a new .csv file\n",
    "my_table_test = atomized_resp[2]\n",
    "print(my_table_test)"
   ]
  },
  {
   "cell_type": "code",
   "execution_count": 27,
   "metadata": {},
   "outputs": [
    {
     "name": "stdout",
     "output_type": "stream",
     "text": [
      "['1 Residential & commercial development', 'True', '1.1 Housing & urban areas', 'True', '1.2 Commercial & industrial areas', 'True', '1.3 Tourism & recreation areas', 'False', '2 Agriculture & aquaculture', 'False', '2.1 Annual & perennial non-timber crops', 'False', '2.2 Wood & pulp plantations', 'False', '2.3 Livestock farming & ranching', 'False', '2.4 Marine & freshwater aquaculture', 'False', '3 Energy production & mining', 'False', '3.1 Oil & gas drilling', 'False', '3.2 Mining & quarrying', 'False', '3.3 Renewable energy', 'False', '4 Transportation & service corridors', 'True', '4.1 Roads & railroads', 'False', '4.2 Utility & service lines', 'True', '4.3 Shipping lanes', 'False', '4.4 Flight paths', 'False', '5 Biological resource use', 'False', '5.1 Hunting & collecting terrestrial animals', 'False', '5.2 Gathering terrestrial plants', 'False', '5.3 Logging & wood harvesting', 'False', '5.4 Fishing & harvesting aquatic resources', 'False', '6 Human intrusions & disturbance', 'False', '6.1 Recreational activities', 'False', '6.2 War, civil unrest & military exercises', 'False', '6.3 Work & other activities', 'False', '7 Natural system modifications', 'False', '7.1 Fire & fire suppression', 'False', '7.2 Dams & water management/use', 'False', '7.3 Other ecosystem modifications', 'False', '8 Invasive & other problematic species, genes & diseases', 'False', '8.1 Invasive non-native/alien species/diseases', 'False', '8.2 Problematic native species/diseases', 'False', '8.3 Introduced genetic material', 'False', '8.4 Problematic species/diseases of unknown origin', 'False', '8.5 Viral/prion-induced diseases', 'False', '8.6 Diseases of unknown cause', 'False', '9. Pollution', 'True', '9.1 Domestic & urban waste water', 'True', '9.2 Industrial & military effluents', 'False', '9.3 Agricultural & forestry effluents', 'False', '9.4 Garbage & solid waste', 'False', '9.5 Air-borne pollutants', 'False', '9.6 Excess energy', 'False', '10 Geological events', 'False', '10.1 Volcanoes', 'False', '10.2 Earthquakes and Tsunamis', 'False', '10.3 Avalanches and Landslides', 'False', '11 Climate change & severe weather', 'False', '11.1 Habitat shifting & alteration', 'False', '11.2 Droughts', 'False', '11.3 Temperature extremes', 'False', '11.4 Storms & flooding', 'False', '11.5 Other impacts', 'False', '12 Other options', 'False', '12.1 Other threat', 'False']\n"
     ]
    }
   ],
   "source": [
    "test_split = my_table_test.strip().split(\"|\")\n",
    "test_split = test_split[7:]\n",
    "test_split = [s.strip() for s in test_split]\n",
    "test_split = list(filter(None, test_split))\n",
    "print(test_split)"
   ]
  },
  {
   "cell_type": "code",
   "execution_count": 14,
   "metadata": {},
   "outputs": [],
   "source": [
    "def remove_if_next_not_bool(lst):\n",
    "    i = 0\n",
    "\n",
    "    while i < len(lst) - 1:\n",
    "        if lst[i+1] != \"True\" and lst[i+1] != \"False\":\n",
    "            lst.pop(i)\n",
    "        else:\n",
    "            i += 1\n",
    "    \n",
    "    return lst"
   ]
  },
  {
   "cell_type": "code",
   "execution_count": 28,
   "metadata": {},
   "outputs": [],
   "source": [
    "test = remove_if_next_not_bool(test_split)"
   ]
  },
  {
   "cell_type": "code",
   "execution_count": 18,
   "metadata": {},
   "outputs": [],
   "source": [
    "import pickle\n",
    "import re\n",
    "\n",
    "with open(\"../data/my_full_resp.pickle\", \"wb\") as f:\n",
    "    pickle.dump(my_resps, f, protocol=pickle.HIGHEST_PROTOCOL)\n",
    "\n",
    "with open(\"../data/my_atomized_resp.pickle\", \"wb\") as f:\n",
    "    pickle.dump(atomized_resp, f, protocol=pickle.HIGHEST_PROTOCOL)\n",
    "\n"
   ]
  },
  {
   "cell_type": "code",
   "execution_count": 81,
   "metadata": {},
   "outputs": [],
   "source": [
    "my_atomized_dfs = []\n",
    "problem_indices = []\n",
    "\n",
    "with (open(\"../data/my_full_resp.pickle\", \"rb\")) as f:\n",
    "    full_resp_test = pickle.load(f)\n",
    "\n",
    "with (open(\"../data/my_atomized_resp.pickle\", \"rb\")) as f:\n",
    "    atomized_resp_test = pickle.load(f)"
   ]
  },
  {
   "cell_type": "code",
   "execution_count": 82,
   "metadata": {},
   "outputs": [],
   "source": [
    "from itertools import groupby\n",
    "\n",
    "for index, row in enumerate(atomized_resp):\n",
    "\n",
    "    if index in [215, 259, 295, 338, 402, 407, 532, 538, 547, 562, 617, 662, 665, 737, 761, 802, 914]:\n",
    "        problem_indices.append(index)\n",
    "    else:\n",
    "        if row!= \"No Threats.\":\n",
    "            test_split = row.strip()\n",
    "            test_split = test_split.split(\"|\")\n",
    "            test_split = test_split[7:]\n",
    "            test_split = [s.strip() for s in test_split]\n",
    "            test_split = [s for s in test_split if not s.startswith(\"<!--\")]\n",
    "            test_split = [s for s in test_split if not s.startswith(\"`\")]\n",
    "            test_split = [s for s in test_split if not s.startswith(\"-\")]\n",
    "            test_split = [s[0] for s in groupby(test_split)]\n",
    "            test_split = list(filter(None, test_split))\n",
    "                \n",
    "            header = test_split[::2]\n",
    "            values = test_split[1::2]\n",
    "\n",
    "            if len(values) > 4:\n",
    "                # header = [\"1 Residential & commercial development\", \"1.1 Housing & urban areas\", \"1.2 Commercial & industrial areas\", \"1.3 Tourism & recreation areas\", \"2 Agriculture & aquaculture\", \" 2.1 Annual & perennial non-timber crops\", \" 2.2 Wood & pulp plantations\", \" 2.3 Livestock farming & ranching\", \" 2.4 Marine & freshwater aquaculture\", \" 3 Energy production & mining\", \" 3.1 Oil & gas drilling\", \" 3.2 Mining & quarrying\", \" 3.3 Renewable energy\", \" 4 Transportation & service corridors\", \" 4.1 Roads & railroads\", \" 4.2 Utility & service lines\", \" 4.3 Shipping lanes\", \" 4.4 Flight paths\", \" 5 Biological resource use\", \" 5.1 Hunting & collecting terrestrial animals\", \" 5.2 Gathering terrestrial plants\", \" 5.3 Logging & wood harvesting\", \" 5.4 Fishing & harvesting aquatic resources\", \" 6 Human intrusions & disturbance\", \" 6.1 Recreational activities\", \" 6.2 War\", \" civil unrest & military exercises\", \" 6.3 Work & other activities\", \" 7 Natural system modifications\", \" 7.1 Fire & fire suppression\", \" 7.2 Dams & water management/use\", \" 7.3 Other ecosystem modifications\", \" 8 Invasive & other problematic species\", \" genes & diseases\", \" 8.1 Invasive non-native/alien species/diseases\", \" 8.2 Problematic native species/diseases\", \" 8.3 Introduced genetic material\", \" 8.4 Problematic species/diseases of unknown origin\", \" 8.5 Viral/prion-induced diseases\", \" 8.6 Diseases of unknown cause\", \" 9. Pollution\", \" 9.1 Domestic & urban waste water\", \" 9.2 Industrial & military effluents\", \" 9.3 Agricultural & forestry effluents\", \" 9.4 Garbage & solid waste\", \" 9.5 Air-borne pollutants\", \" 9.6 Excess energy\", \" 10 Geological events\", \" 10.1 Volcanoes\", \" 10.2 Earthquakes and Tsunamis\", \" 10.3 Avalanches and Landslides\", \" 11 Climate change & severe weather\", \" 11.1 Habitat shifting & alteration\", \" 11.2 Droughts\", \" 11.3 Temperature extremes\", \" 11.4 Storms & flooding\", \" 11.5 Other impacts\", \"12 Other options\", \"12.1 Other threat\"]\n",
    "\n",
    "                header.append(\"scientificName\")\n",
    "                header.append(\"TaxonID\")\n",
    "                header.append(\"documentType\")\n",
    "                header.append(\"urls\")\n",
    "\n",
    "                values.append(my_resps.iloc[index][\"scientificName\"])\n",
    "                values.append(my_resps.iloc[index][\"TaxonID\"])\n",
    "                values.append(my_resps.iloc[index][\"documentType\"])\n",
    "                values.append(my_resps.iloc[index][\"urls\"])\n",
    "            else:\n",
    "                problem_indices.append(index)\n",
    "                pass\n",
    "\n",
    "            threat_df = pd.DataFrame([values], columns = header)\n",
    "            my_atomized_dfs.append(threat_df)\n",
    "        else:\n",
    "            problem_indices.append(index)\n",
    "            pass"
   ]
  },
  {
   "cell_type": "code",
   "execution_count": 83,
   "metadata": {},
   "outputs": [
    {
     "name": "stdout",
     "output_type": "stream",
     "text": [
      "  1 Residential & commercial development 1.1 Housing & urban areas  \\\n",
      "0                                  False                     False   \n",
      "\n",
      "  1.2 Commercial & industrial areas 1.3 Tourism & recreation areas  \\\n",
      "0                             False                          False   \n",
      "\n",
      "  2 Agriculture & aquaculture 2.1 Annual & perennial non-timber crops  \\\n",
      "0                       False                                   False   \n",
      "\n",
      "  2.2 Wood & pulp plantations 2.3 Livestock farming & ranching  \\\n",
      "0                       False                            False   \n",
      "\n",
      "  2.4 Marine & freshwater aquaculture 3 Energy production & mining  ...  \\\n",
      "0                               False                        False  ...   \n",
      "\n",
      "  11.2 Droughts 11.3 Temperature extremes 11.4 Storms & flooding  \\\n",
      "0         False                      True                   True   \n",
      "\n",
      "  11.5 Other impacts 12 Other options 12.1 Other threat    scientificName  \\\n",
      "0              False            False             False  Acropora palmata   \n",
      "\n",
      "  TaxonID                    documentType  \\\n",
      "0    8928  CriticalHabitatDesignationURLs   \n",
      "\n",
      "                                                urls  \n",
      "0  https://www.govinfo.gov/link/fr/73/72210?link-...  \n",
      "\n",
      "[1 rows x 61 columns]\n"
     ]
    }
   ],
   "source": [
    "print(my_atomized_dfs[0])"
   ]
  },
  {
   "cell_type": "code",
   "execution_count": 84,
   "metadata": {},
   "outputs": [],
   "source": [
    "my_atomized_dfs = [x for x in my_atomized_dfs if x.shape[1] > 3]\n",
    "my_atomized_dfs = [x.loc[:, ~x.columns.duplicated()].copy() for x in my_atomized_dfs]\n",
    "my_final_df = pd.concat(my_atomized_dfs, ignore_index = True, axis = 0)\n",
    "my_final_df.to_csv(\"../data/test_atomized_threats_test.csv\")"
   ]
  },
  {
   "cell_type": "code",
   "execution_count": null,
   "metadata": {},
   "outputs": [],
   "source": []
  }
 ],
 "metadata": {
  "kernelspec": {
   "display_name": "Python 3",
   "language": "python",
   "name": "python3"
  },
  "language_info": {
   "codemirror_mode": {
    "name": "ipython",
    "version": 3
   },
   "file_extension": ".py",
   "mimetype": "text/x-python",
   "name": "python",
   "nbconvert_exporter": "python",
   "pygments_lexer": "ipython3",
   "version": "3.11.6"
  }
 },
 "nbformat": 4,
 "nbformat_minor": 2
}
